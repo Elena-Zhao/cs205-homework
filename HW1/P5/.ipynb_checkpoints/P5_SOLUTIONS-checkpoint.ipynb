{
 "cells": [
  {
   "cell_type": "code",
   "execution_count": 1,
   "metadata": {
    "collapsed": true
   },
   "outputs": [],
   "source": [
    "import findspark\n",
    "findspark.find()\n",
    "findspark.init(edit_profile=True)\n",
    "import pyspark\n",
    "sc = pyspark.SparkContext()"
   ]
  },
  {
   "cell_type": "markdown",
   "metadata": {},
   "source": [
    "##Clarification\n",
    "When solving this problem, I referenced to the PageRank algorithm in PageRank.py"
   ]
  },
  {
   "cell_type": "code",
   "execution_count": 2,
   "metadata": {
    "collapsed": false
   },
   "outputs": [],
   "source": [
    "links = sc.textFile('/Users/Elena/Desktop/links-simple-sorted.txt', 4)\n",
    "page_names = sc.textFile('/Users/Elena/Desktop/titles-sorted.txt', 4)"
   ]
  },
  {
   "cell_type": "code",
   "execution_count": 22,
   "metadata": {
    "collapsed": true
   },
   "outputs": [],
   "source": [
    "#HELPER FUNCTIONS\n",
    "def construct_neighbor_graph(s):\n",
    "    src, dests = s.split(': ')\n",
    "    dests = [int(to) for to in dests.split(' ')]\n",
    "    return (int(src), dests)\n",
    "\n",
    "\n",
    "# create an RDD for looking up page names from numbers\n",
    "# remember that it's all 1-indexed\n",
    "def construct_name_dict(page_names):\n",
    "    return construct_name_dict\n",
    "\n",
    "def bfs_paths(graph, start, goal):\n",
    "    queue = [(start, [start])]\n",
    "    while queue:\n",
    "        (vertex, path) = queue.pop(0)\n",
    "        try:\n",
    "            for next in graph[vertex] - set(path):\n",
    "                if next == goal:\n",
    "                    yield path + [next]\n",
    "                else:\n",
    "                    queue.append((next, path + [next]))\n",
    "        except: \n",
    "            print vertex, path\n",
    "\n",
    "\n",
    "def shortest_path(graph, start, goal):\n",
    "    try:\n",
    "        return next(bfs_paths(graph, start, goal))\n",
    "    except StopIteration:\n",
    "        return None"
   ]
  },
  {
   "cell_type": "code",
   "execution_count": 6,
   "metadata": {
    "collapsed": false
   },
   "outputs": [],
   "source": [
    "# construct and cache neighbor_graph and page_names (for lookup purpose)\n",
    "neighbor_graph = links.map(construct_neighbor_graph).partitionBy(64).cache()\n",
    "page_names = page_names.zipWithIndex().map(lambda (n, id): (id + 1, n)).sortByKey().cache()"
   ]
  },
  {
   "cell_type": "code",
   "execution_count": 23,
   "metadata": {
    "collapsed": true
   },
   "outputs": [],
   "source": [
    "# find Kevin Bacon\n",
    "Kevin_Bacon = page_names.filter(lambda (K, V): V == 'Kevin_Bacon').collect()\n",
    "# This should be [(node_id, 'Kevin_Bacon')]\n",
    "assert len(Kevin_Bacon) == 1\n",
    "Kevin_Bacon = Kevin_Bacon[0][0]  # extract node id\n",
    "\n",
    "# find Harvard University\n",
    "Harvard_University = page_names.filter(lambda (K, V):\n",
    "                                       V == 'Harvard_University').collect()\n",
    "# This should be [(node_id, 'Harvard_University')]\n",
    "assert len(Harvard_University) == 1\n",
    "Harvard_University = Harvard_University[0][0]  # extract node id"
   ]
  },
  {
   "cell_type": "code",
   "execution_count": 24,
   "metadata": {
    "collapsed": false
   },
   "outputs": [
    {
     "name": "stdout",
     "output_type": "stream",
     "text": [
      "2729536 2152782\n"
     ]
    }
   ],
   "source": [
    "print Kevin_Bacon, Harvard_University"
   ]
  },
  {
   "cell_type": "code",
   "execution_count": 13,
   "metadata": {
    "collapsed": false
   },
   "outputs": [],
   "source": [
    "#Test Graph\n",
    "neighbor_graph_simple = neighbor_graph.filter(lambda x: \n",
    "                                                  (Harvard_University == x[0]) or\n",
    "                                                  (Harvard_University in x[1]) or\n",
    "                                                  (Kevin_Bacon == x[0]) or\n",
    "                                                  (Kevin_Bacon in x[1])\n",
    "                                                 ).map(lambda x: dict({x[0]: set(x[1])})).collect()"
   ]
  },
  {
   "cell_type": "markdown",
   "metadata": {},
   "source": [
    "# Solution 1: Naive"
   ]
  },
  {
   "cell_type": "code",
   "execution_count": 30,
   "metadata": {
    "collapsed": false
   },
   "outputs": [],
   "source": [
    "print 'Begin searching for Shortest Path from \"Harvard University\" to \"Kevin Bacon\": \\n'\n",
    "h_k_shortest_path = shortest_path(neighbor_graph_simple, Harvard_University, Kevin_Bacon)\n",
    "h_k_shortest_path = sc.parallelize(h_k_shortest_path).map(lambda x: page_names.lookup(x)[0]).collect()\n",
    "print 'Shortest Path from “Harvard University” to \"Kevin Bacon\": \\n', h_k_shortest_path\n",
    "\n",
    "\n",
    "print 'Begin searching for Shortest Path from \"Kevin Bacon\" to \"Harvard University\": \\n'\n",
    "k_h_shortest_path = shortest_path(neighbor_graph_simple, Kevin_Bacon, Harvard_University)\n",
    "k_h_shortest_path = sc.parallelize(k_h_shortest_path).map(lambda x: page_names.lookup(x)[0]).collect()\n",
    "print 'Shortest Path from \"Kevin Bacon” to “Harvard University\": \\n', k_h_shortest_path"
   ]
  },
  {
   "cell_type": "code",
   "execution_count": 29,
   "metadata": {
    "collapsed": false
   },
   "outputs": [],
   "source": [
    "# neighbor_graph_simple[0]"
   ]
  },
  {
   "cell_type": "code",
   "execution_count": 32,
   "metadata": {
    "collapsed": false
   },
   "outputs": [],
   "source": [
    "def construct_neighbor_graph(s):\n",
    "    src, dests = s.split(': ')\n",
    "    dests = [int(to) for to in dests.split(' ')]\n",
    "    return (int(src), dests)\n",
    "\n",
    "def bfs_paths(graph, start, goal):\n",
    "    queue = [(start, [start])]\n",
    "    while queue:\n",
    "        (vertex, path) = queue.pop(0)\n",
    "        for next in graph[vertex] - set(path):\n",
    "            if next == goal:\n",
    "                yield path + [next]\n",
    "            else:\n",
    "                queue.append((next, path + [next]))\n",
    "\n",
    "\n",
    "def shortest_path(graph, start, goal):\n",
    "    try:\n",
    "        return next(bfs_paths(graph, start, goal))\n",
    "    except StopIteration:\n",
    "        return None\n",
    "\n",
    "if __name__ == '__main__':\n",
    "#   sc = pyspark.SparkContext()\n",
    "    #sc.setLogLevel('WARN')\n",
    "\n",
    "    links = sc.textFile('/Users/Elena/Desktop/links-simple-sorted.txt', 4)\n",
    "    page_names = sc.textFile('/Users/Elena/Desktop/titles-sorted.txt', 4)\n",
    "\n",
    "    # construct and cache neighbor_graph and page_names (for lookup purpose)\n",
    "    neighbor_graph = links.map(construct_neighbor_graph).partitionBy(64).cache()\n",
    "    page_names = page_names.zipWithIndex().map(lambda (n, id): (id + 1, n)).sortByKey().cache()\n",
    "\n",
    "    # neighbor_graph_simple is used for simple bfs search for shortest path\n",
    "#     neighbor_graph_simple = neighbor_graph.map(lambda x: dict({x[0]: set(x[1])})).collect()\n",
    "\n",
    "    # find Kevin Bacon\n",
    "    Kevin_Bacon = page_names.filter(lambda (K, V): V == 'Kevin_Bacon').collect()\n",
    "    # This should be [(node_id, 'Kevin_Bacon')]\n",
    "    assert len(Kevin_Bacon) == 1\n",
    "    Kevin_Bacon = Kevin_Bacon[0][0]  # extract node id\n",
    "\n",
    "    # find Harvard University\n",
    "    Harvard_University = page_names.filter(lambda (K, V):\n",
    "                                           V == 'Harvard_University').collect()\n",
    "    # This should be [(node_id, 'Harvard_University')]\n",
    "    assert len(Harvard_University) == 1\n",
    "    Harvard_University = Harvard_University[0][0]  # extract node id\n",
    "\n",
    "    neighbor_graph_simple = neighbor_graph.filter(lambda x: \n",
    "                                                  (Harvard_University == x[0]) or\n",
    "                                                  (Harvard_University in x[1]) or\n",
    "                                                  (Kevin_Bacon == x[0]) or\n",
    "                                                  (Kevin_Bacon in x[1])\n",
    "                                                 ).map(lambda x: dict({x[0]: set(x[1])})).collect()\n",
    "\n",
    "    print 'Begin searching for Shortest Path from \"Harvard University\" to \"Kevin Bacon\": \\n'\n",
    "    h_k_shortest_path = shortest_path(neighbor_graph_simple, Harvard_University, Kevin_Bacon)\n",
    "    h_k_shortest_path = sc.parallelize(h_k_shortest_path).map(lambda x: page_names.lookup(x)[0]).collect()\n",
    "    print 'Shortest Path from “Harvard University” to \"Kevin Bacon\": \\n', h_k_shortest_path\n",
    "\n",
    "\n",
    "    print 'Begin searching for Shortest Path from \"Kevin Bacon\" to \"Harvard University\": \\n'\n",
    "    k_h_shortest_path = shortest_path(neighbor_graph_simple, Kevin_Bacon, Harvard_University)\n",
    "    k_h_shortest_path = sc.parallelize(k_h_shortest_path).map(lambda x: page_names.lookup(x)[0]).collect()\n",
    "    print 'Shortest Path from \"Kevin Bacon” to “Harvard University\": \\n', k_h_shortest_path\n",
    "\n"
   ]
  },
  {
   "cell_type": "markdown",
   "metadata": {},
   "source": [
    "#try out"
   ]
  },
  {
   "cell_type": "code",
   "execution_count": null,
   "metadata": {
    "collapsed": true
   },
   "outputs": [],
   "source": [
    "graph = {'A': set(['B', 'C']),\n",
    "         'B': set(['A', 'D', 'E']),\n",
    "         'C': set(['A', 'F']),\n",
    "         'D': set(['B']),\n",
    "         'E': set(['B', 'F']),\n",
    "         'F': set(['C', 'E'])}\n",
    "list(bfs_paths(graph, 'A', 'F'))\n",
    "shortest_path(graph, 'A', 'F') # ['A', 'C', 'F']"
   ]
  }
 ],
 "metadata": {
  "kernelspec": {
   "display_name": "Python 2",
   "language": "python",
   "name": "python2"
  },
  "language_info": {
   "codemirror_mode": {
    "name": "ipython",
    "version": 2
   },
   "file_extension": ".py",
   "mimetype": "text/x-python",
   "name": "python",
   "nbconvert_exporter": "python",
   "pygments_lexer": "ipython2",
   "version": "2.7.10"
  }
 },
 "nbformat": 4,
 "nbformat_minor": 0
}
