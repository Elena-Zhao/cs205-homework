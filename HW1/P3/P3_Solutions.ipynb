{
 "cells": [
  {
   "cell_type": "code",
   "execution_count": 1,
   "metadata": {
    "collapsed": true
   },
   "outputs": [],
   "source": [
    "import findspark\n",
    "findspark.find()\n",
    "findspark.init(edit_profile=True)\n",
    "import pyspark\n",
    "sc = pyspark.SparkContext()"
   ]
  },
  {
   "cell_type": "code",
   "execution_count": 64,
   "metadata": {
    "collapsed": true
   },
   "outputs": [],
   "source": [
    "%matplotlib inline\n",
    "# See all the \"as ...\" contructs? They're just aliasing the package names.\n",
    "# That way we can call methods like plt.plot() instead of matplotlib.pyplot.plot().\n",
    "import numpy as np\n",
    "import scipy as sp\n",
    "import matplotlib as mpl\n",
    "import matplotlib.cm as cm\n",
    "import matplotlib.pyplot as plt\n",
    "import pandas as pd\n",
    "import time\n",
    "import math\n",
    "import datetime\n",
    "from random import randint\n",
    "pd.set_option('display.width', 500)\n",
    "pd.set_option('display.max_columns', 100)\n",
    "pd.set_option('display.notebook_repr_html', True)\n",
    "import seaborn as sns\n",
    "sns.set_style(\"whitegrid\")\n",
    "sns.set_context(\"poster\")"
   ]
  },
  {
   "cell_type": "code",
   "execution_count": 68,
   "metadata": {
    "collapsed": false
   },
   "outputs": [],
   "source": [
    "#Read in the data form txt file and preprocess to standard format\n",
    "text_file = open(\"EOWL_words.txt\", \"r\")\n",
    "lines = text_file.readlines()\n",
    "text_file.close()\n",
    "lines = [i[0:-1] for i in lines]"
   ]
  },
  {
   "cell_type": "code",
   "execution_count": 75,
   "metadata": {
    "collapsed": false
   },
   "outputs": [
    {
     "data": {
      "text/plain": [
       "('aelst',\n",
       " 11,\n",
       " ['least',\n",
       "  'leats',\n",
       "  'salet',\n",
       "  'slate',\n",
       "  'stale',\n",
       "  'steal',\n",
       "  'stela',\n",
       "  'taels',\n",
       "  'tales',\n",
       "  'teals',\n",
       "  'tesla'])"
      ]
     },
     "execution_count": 75,
     "metadata": {},
     "output_type": "execute_result"
    }
   ],
   "source": [
    "# wlist = sc.textFile(\"EOWL_words.txt\")\n",
    "wlist = sc.parallelize(lines, 20)\n",
    "\n",
    "#Return RDD in the form (SortedLetterSequence, NumberOfValidAnagrams)\n",
    "sequence_num_RDD = wlist.map(lambda word: (''.join(sorted(list(word))),1)).reduceByKey(lambda x,y: x+y)\n",
    "\n",
    "#Return RDD in the form (SortedLetterSequence1, [Word1a, Word2a, ...])\n",
    "sequence_words_RDD = wlist.map(lambda word: (''.join(sorted(list(word))),''+ word)).groupByKey().map(lambda x : (x[0], list(x[1])))\n",
    "\n",
    "#Join the two RDDs above and map to designated format\n",
    "result = sequence_num_RDD.join(sequence_words_RDD).map(lambda x: (x[0], x[1][0], x[1][1]))\n",
    "\n",
    "#Extract and print the line from the RDD above with the largest number of valid anagrams.\n",
    "result = result.sortBy(lambda x: x[1], False)\n",
    "result.first()"
   ]
  },
  {
   "cell_type": "code",
   "execution_count": 71,
   "metadata": {
    "collapsed": false
   },
   "outputs": [
    {
     "data": {
      "text/plain": [
       "('aeprs',\n",
       " 11,\n",
       " ['asper',\n",
       "  'pares',\n",
       "  'parse',\n",
       "  'pears',\n",
       "  'prase',\n",
       "  'presa',\n",
       "  'rapes',\n",
       "  'reaps',\n",
       "  'spaer',\n",
       "  'spare',\n",
       "  'spear'])"
      ]
     },
     "execution_count": 71,
     "metadata": {},
     "output_type": "execute_result"
    }
   ],
   "source": [
    "wlist = sc.parallelize(lines, 20)\n",
    "sequence_words_RDD = wlist.map(lambda word: (''.join(sorted(list(word))),word)).groupByKey().map(lambda x : (x[0], list(x[1])))\n",
    "result = sequence_words_RDD.map(lambda x: (x[0], len(x[1]), x[1]))\n",
    "\n",
    "result = result.sortBy(lambda x: x[1], False)\n",
    "\n",
    "result.first()"
   ]
  },
  {
   "cell_type": "code",
   "execution_count": null,
   "metadata": {
    "collapsed": true
   },
   "outputs": [],
   "source": []
  }
 ],
 "metadata": {
  "kernelspec": {
   "display_name": "Python 2",
   "language": "python",
   "name": "python2"
  },
  "language_info": {
   "codemirror_mode": {
    "name": "ipython",
    "version": 2
   },
   "file_extension": ".py",
   "mimetype": "text/x-python",
   "name": "python",
   "nbconvert_exporter": "python",
   "pygments_lexer": "ipython2",
   "version": "2.7.10"
  }
 },
 "nbformat": 4,
 "nbformat_minor": 0
}
