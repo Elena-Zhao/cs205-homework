{
 "cells": [
  {
   "cell_type": "code",
   "execution_count": 2,
   "metadata": {
    "collapsed": true
   },
   "outputs": [],
   "source": [
    "import findspark\n",
    "findspark.find()\n",
    "findspark.init(edit_profile=True)\n",
    "import pyspark\n",
    "sc = pyspark.SparkContext()"
   ]
  },
  {
   "cell_type": "code",
   "execution_count": 3,
   "metadata": {
    "collapsed": true
   },
   "outputs": [],
   "source": [
    "import re\n",
    "import copy"
   ]
  },
  {
   "cell_type": "code",
   "execution_count": 4,
   "metadata": {
    "collapsed": false
   },
   "outputs": [],
   "source": [
    "rawData = sc.textFile('pg100.txt')"
   ]
  },
  {
   "cell_type": "code",
   "execution_count": 5,
   "metadata": {
    "collapsed": false
   },
   "outputs": [],
   "source": [
    "wlist = rawData.flatMap(lambda x: x.split(' ')).filter(lambda x: not x.isdigit()).filter(lambda x: not x.isupper()).filter(lambda x: x != '')"
   ]
  },
  {
   "cell_type": "code",
   "execution_count": 141,
   "metadata": {
    "collapsed": false
   },
   "outputs": [],
   "source": [
    "# withIndex = wlist.zipWithIndex().map(lambda (k,v): (v,k)) \n",
    "# withIndex.map(lambda x: (x[1], withIndex.lookup(x[0] + 1), withIndex.lookup(x[0] + 2))).take(10)"
   ]
  },
  {
   "cell_type": "code",
   "execution_count": 16,
   "metadata": {
    "collapsed": false
   },
   "outputs": [],
   "source": [
    "wlist_2 = wlist.collect()\n",
    "word_seq = []\n",
    "for i in xrange(len(wlist_2)-2):\n",
    "    word_seq.append(((wlist_2[i], wlist_2[i+1]),wlist_2[i+2]))"
   ]
  },
  {
   "cell_type": "code",
   "execution_count": 89,
   "metadata": {
    "collapsed": true
   },
   "outputs": [],
   "source": [
    "def getWordCount(wlist):\n",
    "    result = {}\n",
    "    for i in wlist:\n",
    "        try:\n",
    "            result[i] = result[i] + 1\n",
    "        except: \n",
    "            result[i] = 1\n",
    "    result = sorted(result.items(), key=lambda x: x[1], reverse = True)\n",
    "    return result"
   ]
  },
  {
   "cell_type": "code",
   "execution_count": 92,
   "metadata": {
    "collapsed": false
   },
   "outputs": [],
   "source": [
    "resultRDD = sc.parallelize(word_seq).groupByKey().mapValues(lambda x: list(x)).mapValues(getWordCount).cache()"
   ]
  },
  {
   "cell_type": "code",
   "execution_count": 98,
   "metadata": {
    "collapsed": false
   },
   "outputs": [
    {
     "data": {
      "text/plain": [
       "[((u'so', u'was'),\n",
       "  [(u\"I'll\", 1), (u'mine,', 1), (u'he', 1), (u'this.', 1), (u'he;', 1)]),\n",
       " ((u\"worship's\", u'friend,'), [(u'and', 1)]),\n",
       " ((u'Faith,', u'some'), [(u'certain', 1)]),\n",
       " ((u'four.', u'Poins.'), [(u'Ay,', 1)]),\n",
       " ((u'honour', u'he'), [(u\"requir'd;\", 1)])]"
      ]
     },
     "execution_count": 98,
     "metadata": {},
     "output_type": "execute_result"
    }
   ],
   "source": [
    "resultRDD.take(5)"
   ]
  },
  {
   "cell_type": "code",
   "execution_count": 125,
   "metadata": {
    "collapsed": false
   },
   "outputs": [
    {
     "name": "stdout",
     "output_type": "stream",
     "text": [
      "(u'hath', u'most')\n",
      "[]\n"
     ]
    }
   ],
   "source": [
    "tmp = resultRDD.keys().takeSample(True, 1)[0]\n",
    "print tmp\n",
    "print resultRDD.map(lambda x: x).lookup((1, 1))\n",
    "# resultRDD.keys().takeSample(True, 1)[0]\n",
    "# resultRDD.keys().take(1)"
   ]
  },
  {
   "cell_type": "code",
   "execution_count": 135,
   "metadata": {
    "collapsed": false
   },
   "outputs": [],
   "source": [
    "def generateLine(word_count):\n",
    "    init_key = resultRDD.keys().takeSample(True, 1)[0] \n",
    "    phrase = init_key[0] + ' ' + init_key[1]\n",
    "    for i in xrange(word_count - 2):\n",
    "        try:\n",
    "            new_word = resultRDD.map(lambda x: x).lookup(init_key)[0][0][0]\n",
    "        except: \n",
    "            init_key = resultRDD.keys().takeSample(True, 1)[0]\n",
    "            new_word = resultRDD.map(lambda x: x).lookup(init_key)[0][0][0]\n",
    "        \n",
    "        phrase = phrase + ' ' + new_word\n",
    "        init_key = (init_key[1], new_word)\n",
    "    \n",
    "    return phrase\n",
    "    \n",
    "def multipleLines(line_count, word_count):\n",
    "    lines = ''\n",
    "    for i in xrange(line_count):\n",
    "        lines = lines + '\\n' + generateLine(word_count)\n",
    "    return lines"
   ]
  },
  {
   "cell_type": "code",
   "execution_count": 136,
   "metadata": {
    "collapsed": true
   },
   "outputs": [],
   "source": [
    "Shakespeare_verse = multipleLines(10, 20)"
   ]
  },
  {
   "cell_type": "code",
   "execution_count": 140,
   "metadata": {
    "collapsed": false
   },
   "outputs": [
    {
     "name": "stdout",
     "output_type": "stream",
     "text": [
      "\n",
      "or wisdom, To let him be brought to light, Whose ugly and unnatural That such a one as a man\n",
      "thunders and lightens] What stir is this that you have a good conscience. The very thought of this agreement for\n",
      "be angry? Well, well, see the writing. do beseech you, sir, to my lord the Duke of York and Somerset\n",
      "have kings that privates have not seen the day of marriage, and God defend the right! And so, good night.\n",
      "boy Love is a good conscience. The very thought of this agreement for keeping the Project Gutenberg Literary Archive Foundation\n",
      "have to-night dispatch'd sixteen businesses, a month's length apiece; by an by a piece of work that will not be\n",
      "men's hopes; And, like a man of his own hand did stay. Romeo, that did love you bear a letter\n",
      "that Pompey gives him, else is his name? His name, pray you. I'll not be a man. But art thou\n",
      "mighty rotting Together have one eye and heart a league of amity, And will not be a man. But art\n",
      "our hope, sir, that you have a good conscience. The very thought of this agreement for keeping the Project Gutenberg\n"
     ]
    }
   ],
   "source": [
    "print Shakespeare_verse\n"
   ]
  },
  {
   "cell_type": "code",
   "execution_count": null,
   "metadata": {
    "collapsed": true
   },
   "outputs": [],
   "source": []
  }
 ],
 "metadata": {
  "kernelspec": {
   "display_name": "Python 2",
   "language": "python",
   "name": "python2"
  },
  "language_info": {
   "codemirror_mode": {
    "name": "ipython",
    "version": 2
   },
   "file_extension": ".py",
   "mimetype": "text/x-python",
   "name": "python",
   "nbconvert_exporter": "python",
   "pygments_lexer": "ipython2",
   "version": "2.7.10"
  }
 },
 "nbformat": 4,
 "nbformat_minor": 0
}
